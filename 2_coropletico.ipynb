{
 "cells": [
  {
   "cell_type": "markdown",
   "metadata": {},
   "source": [
    "### Mapas Coropléticos"
   ]
  },
  {
   "cell_type": "markdown",
   "metadata": {},
   "source": [
    "![mapa](images/geo_portada.jpg)"
   ]
  },
  {
   "cell_type": "code",
   "execution_count": 11,
   "metadata": {},
   "outputs": [],
   "source": [
    "#!pip3 install folium"
   ]
  },
  {
   "cell_type": "code",
   "execution_count": 37,
   "metadata": {},
   "outputs": [],
   "source": [
    "import folium\n",
    "from folium import Choropleth, Circle, Marker, Icon, Map\n",
    "from folium.plugins import HeatMap, MarkerCluster\n",
    "import pandas as pd\n",
    "import geopandas as gpd"
   ]
  },
  {
   "cell_type": "markdown",
   "metadata": {},
   "source": [
    "Pero... ¿GEOQUÉ?\n",
    "- https://es.wikipedia.org/wiki/GeoJSON"
   ]
  },
  {
   "cell_type": "markdown",
   "metadata": {},
   "source": [
    "El GeoJSON va a tener la información de las coordenadas de los límites de lo que queremos pintar. Esas coordenadas forman polígonos, que son lo que se va a poner de colorinchis. "
   ]
  },
  {
   "cell_type": "code",
   "execution_count": 42,
   "metadata": {},
   "outputs": [],
   "source": [
    "import json\n",
    "geo_json = r'data/spain-communities.geojson'"
   ]
  },
  {
   "cell_type": "code",
   "execution_count": 44,
   "metadata": {},
   "outputs": [],
   "source": [
    "#Abrimos el archivo con with open con json.load() para tener un diccionario\n",
    "with open (geo_json) as geo_file:\n",
    "    geo_espana = json.load(geo_file)"
   ]
  },
  {
   "cell_type": "code",
   "execution_count": null,
   "metadata": {},
   "outputs": [],
   "source": []
  },
  {
   "cell_type": "code",
   "execution_count": 45,
   "metadata": {
    "scrolled": true
   },
   "outputs": [
    {
     "data": {
      "text/plain": [
       "['Castilla-Leon',\n",
       " 'Cataluña',\n",
       " 'Ceuta',\n",
       " 'Murcia',\n",
       " 'La Rioja',\n",
       " 'Baleares',\n",
       " 'Canarias',\n",
       " 'Cantabria',\n",
       " 'Andalucia',\n",
       " 'Asturias',\n",
       " 'Valencia',\n",
       " 'Melilla',\n",
       " 'Navarra',\n",
       " 'Galicia',\n",
       " 'Aragon',\n",
       " 'Madrid',\n",
       " 'Extremadura',\n",
       " 'Castilla-La Mancha',\n",
       " 'Pais Vasco']"
      ]
     },
     "execution_count": 45,
     "metadata": {},
     "output_type": "execute_result"
    }
   ],
   "source": [
    "# iteramos en el diccionario para sacar los nombres de las comunidades\n",
    "comunidades = []\n",
    "for index in range(len(geo_espana['features'])):\n",
    "    comunidades.append(geo_espana['features'][index]['properties']['name']) \n",
    "comunidades"
   ]
  },
  {
   "cell_type": "markdown",
   "metadata": {},
   "source": [
    "Somos analistas de datos pero vamos a inventarnos unos datitos .... sorry 🙄"
   ]
  },
  {
   "cell_type": "code",
   "execution_count": null,
   "metadata": {},
   "outputs": [],
   "source": []
  },
  {
   "cell_type": "markdown",
   "metadata": {},
   "source": [
    "Hacemos un dataframe con el diccionario que tiene la lista de comunidades obtenida del GeoJSON y los datitos inventados y renombramos las columnas."
   ]
  },
  {
   "cell_type": "code",
   "execution_count": 46,
   "metadata": {},
   "outputs": [],
   "source": [
    "columnas=['comunidad', 'count']"
   ]
  },
  {
   "cell_type": "code",
   "execution_count": 47,
   "metadata": {},
   "outputs": [],
   "source": [
    "comunidades_mapa = folium.Map(location=[40.416775, -3.703790], zoom_start=6) # <-- ,tiles='stamenwatercolor'"
   ]
  },
  {
   "cell_type": "code",
   "execution_count": 48,
   "metadata": {},
   "outputs": [],
   "source": [
    "# generamos el mapa coroplético a modificando el mapa que ya tenemos \n",
    "import json\n",
    "geo_json = r'data/spain-communities.geojson'"
   ]
  },
  {
   "cell_type": "code",
   "execution_count": 49,
   "metadata": {},
   "outputs": [
    {
     "data": {
      "text/plain": [
       "{'Castilla-Leon': 951,\n",
       " 'Cataluña': 488,\n",
       " 'Ceuta': 347,\n",
       " 'Murcia': 233,\n",
       " 'La Rioja': 44,\n",
       " 'Baleares': 48,\n",
       " 'Canarias': 199,\n",
       " 'Cantabria': 331,\n",
       " 'Andalucia': 271,\n",
       " 'Asturias': 487,\n",
       " 'Valencia': 144,\n",
       " 'Melilla': 916,\n",
       " 'Navarra': 30,\n",
       " 'Galicia': 596,\n",
       " 'Aragon': 640,\n",
       " 'Madrid': 488,\n",
       " 'Extremadura': 540,\n",
       " 'Castilla-La Mancha': 279,\n",
       " 'Pais Vasco': 329}"
      ]
     },
     "execution_count": 49,
     "metadata": {},
     "output_type": "execute_result"
    }
   ],
   "source": [
    "import random\n",
    "diccionario = {nombre : random.randint(0,1000) for nombre in comunidades}\n",
    "diccionario"
   ]
  },
  {
   "cell_type": "code",
   "execution_count": 52,
   "metadata": {},
   "outputs": [
    {
     "data": {
      "text/plain": [
       "{'Castilla-Leon': 326,\n",
       " 'Cataluña': 941,\n",
       " 'Ceuta': 566,\n",
       " 'Murcia': 595,\n",
       " 'La Rioja': 212,\n",
       " 'Baleares': 873,\n",
       " 'Canarias': 184,\n",
       " 'Cantabria': 148,\n",
       " 'Andalucia': 969,\n",
       " 'Asturias': 863,\n",
       " 'Valencia': 913,\n",
       " 'Melilla': 863,\n",
       " 'Navarra': 283,\n",
       " 'Galicia': 917,\n",
       " 'Aragon': 560,\n",
       " 'Madrid': 664,\n",
       " 'Extremadura': 657,\n",
       " 'Castilla-La Mancha': 210,\n",
       " 'Pais Vasco': 163}"
      ]
     },
     "execution_count": 52,
     "metadata": {},
     "output_type": "execute_result"
    }
   ],
   "source": [
    "df =pd.DataFrame.diccionario = {nombre : random.randint(0,1000) for nombre in comunidades}\n",
    "df\n"
   ]
  },
  {
   "cell_type": "code",
   "execution_count": 50,
   "metadata": {},
   "outputs": [
    {
     "ename": "NameError",
     "evalue": "name 'df' is not defined",
     "output_type": "error",
     "traceback": [
      "\u001b[0;31m---------------------------------------------------------------------------\u001b[0m",
      "\u001b[0;31mNameError\u001b[0m                                 Traceback (most recent call last)",
      "\u001b[0;32m<ipython-input-50-69d7b3eaae19>\u001b[0m in \u001b[0;36m<module>\u001b[0;34m\u001b[0m\n\u001b[1;32m      1\u001b[0m comunidades_mapa.choropleth(\n\u001b[1;32m      2\u001b[0m     \u001b[0mgeo_data\u001b[0m \u001b[0;34m=\u001b[0m \u001b[0mgeo_json\u001b[0m\u001b[0;34m,\u001b[0m\u001b[0;34m\u001b[0m\u001b[0;34m\u001b[0m\u001b[0m\n\u001b[0;32m----> 3\u001b[0;31m     \u001b[0mdata\u001b[0m \u001b[0;34m=\u001b[0m \u001b[0mdf\u001b[0m\u001b[0;34m,\u001b[0m\u001b[0;34m\u001b[0m\u001b[0;34m\u001b[0m\u001b[0m\n\u001b[0m\u001b[1;32m      4\u001b[0m     \u001b[0mcolumns\u001b[0m \u001b[0;34m=\u001b[0m \u001b[0;34m[\u001b[0m\u001b[0;34m\"comunidad\"\u001b[0m\u001b[0;34m,\u001b[0m \u001b[0;34m\"count\"\u001b[0m\u001b[0;34m]\u001b[0m\u001b[0;34m,\u001b[0m\u001b[0;34m\u001b[0m\u001b[0;34m\u001b[0m\u001b[0m\n\u001b[1;32m      5\u001b[0m     \u001b[0mkey_on\u001b[0m \u001b[0;34m=\u001b[0m \u001b[0;34m\"feature.properties.name\"\u001b[0m\u001b[0;34m,\u001b[0m\u001b[0;34m\u001b[0m\u001b[0;34m\u001b[0m\u001b[0m\n",
      "\u001b[0;31mNameError\u001b[0m: name 'df' is not defined"
     ]
    }
   ],
   "source": [
    "comunidades_mapa.choropleth(\n",
    "    geo_data = geo_json,\n",
    "    data = df,\n",
    "    columns = [\"comunidad\", \"count\"],\n",
    "    key_on = \"feature.properties.name\",\n",
    "    fill_color = \"YlGnBu\",\n",
    "    fill_opacity = 1,\n",
    "    line_opacity = 1,\n",
    "    legend_name = \"Datitos inventados por comunidad\",\n",
    "    smooth_factor = 0\n",
    "\n",
    ")\n",
    "comunidades_mapa"
   ]
  },
  {
   "cell_type": "code",
   "execution_count": null,
   "metadata": {},
   "outputs": [],
   "source": []
  }
 ],
 "metadata": {
  "kernelspec": {
   "display_name": "Python 3",
   "language": "python",
   "name": "python3"
  },
  "language_info": {
   "codemirror_mode": {
    "name": "ipython",
    "version": 3
   },
   "file_extension": ".py",
   "mimetype": "text/x-python",
   "name": "python",
   "nbconvert_exporter": "python",
   "pygments_lexer": "ipython3",
   "version": "3.8.5"
  }
 },
 "nbformat": 4,
 "nbformat_minor": 4
}
